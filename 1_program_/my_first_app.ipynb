{
 "cells": [
  {
   "cell_type": "markdown",
   "id": "04f5e227",
   "metadata": {},
   "source": [
    "# Моя перша програма \n",
    "цей код виводить моє ім'я , час та місто"
   ]
  },
  {
   "cell_type": "code",
   "execution_count": 2,
   "id": "cbfa3ef4",
   "metadata": {},
   "outputs": [
    {
     "name": "stdout",
     "output_type": "stream",
     "text": [
      "Khrystyna start programming at 2025-10-01 20:22:31.367213. Lviv is the best city!\n"
     ]
    }
   ],
   "source": [
    "from datetime import datetime\n",
    "\n",
    "name = \"Khrystyna\"  # своє ім’я\n",
    "location = \"Lviv\"  # своє улюблене місто\n",
    "\n",
    "print(f\"{name} start programming at {datetime.now()}. {location} is the best city!\")"
   ]
  },
  {
   "cell_type": "code",
   "execution_count": 17,
   "id": "3bf20e96",
   "metadata": {},
   "outputs": [
    {
     "name": "stdout",
     "output_type": "stream",
     "text": [
      "Hello, world! Це моя перша програма.\n"
     ]
    }
   ],
   "source": [
    "print(\"Hello, world! Це моя перша програма.\")"
   ]
  },
  {
   "cell_type": "code",
   "execution_count": 1,
   "id": "33254150",
   "metadata": {},
   "outputs": [
    {
     "name": "stdout",
     "output_type": "stream",
     "text": [
      "Вітаю, Христина! Бажаю успіхів у програмуванні.\n"
     ]
    }
   ],
   "source": [
    "# Запитуємо ім'я користувача\n",
    "name = input(\"Введіть ваше ім'я:\")\n",
    "\n",
    "# Виводимо персоналізоване привітання\n",
    "print(f\"Вітаю, {name}! Бажаю успіхів у програмуванні.\")"
   ]
  }
 ],
 "metadata": {
  "kernelspec": {
   "display_name": "Python 3",
   "language": "python",
   "name": "python3"
  },
  "language_info": {
   "codemirror_mode": {
    "name": "ipython",
    "version": 3
   },
   "file_extension": ".py",
   "mimetype": "text/x-python",
   "name": "python",
   "nbconvert_exporter": "python",
   "pygments_lexer": "ipython3",
   "version": "3.9.0"
  }
 },
 "nbformat": 4,
 "nbformat_minor": 5
}
